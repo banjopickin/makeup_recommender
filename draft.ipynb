{
 "cells": [
  {
   "cell_type": "markdown",
   "metadata": {},
   "source": [
    "This file shows the scraping step.\n",
    "Following is the demo for scraping pins' info"
   ]
  },
  {
   "cell_type": "code",
   "execution_count": 1,
   "metadata": {
    "collapsed": true
   },
   "outputs": [],
   "source": [
    "import requests"
   ]
  },
  {
   "cell_type": "code",
   "execution_count": 2,
   "metadata": {
    "collapsed": true
   },
   "outputs": [],
   "source": [
    "base_url = 'https://api.pinterest.com'"
   ]
  },
  {
   "cell_type": "code",
   "execution_count": 136,
   "metadata": {
    "collapsed": true
   },
   "outputs": [],
   "source": [
    "url = base_url+'/v1/boards/meccabeauty/lips/pins'"
   ]
  },
  {
   "cell_type": "code",
   "execution_count": 137,
   "metadata": {
    "collapsed": false
   },
   "outputs": [
    {
     "data": {
      "text/plain": [
       "'https://api.pinterest.com/v1/boards/meccabeauty/lips/pins'"
      ]
     },
     "execution_count": 137,
     "metadata": {},
     "output_type": "execute_result"
    }
   ],
   "source": [
    "url"
   ]
  },
  {
   "cell_type": "code",
   "execution_count": 92,
   "metadata": {
    "collapsed": false
   },
   "outputs": [],
   "source": [
    "params = {}\n",
    "params[\"access_token\"] = secret\n",
    "params['fields']=['counts']\n",
    "#params['limit'] = 100"
   ]
  },
  {
   "cell_type": "code",
   "execution_count": 176,
   "metadata": {
    "collapsed": false
   },
   "outputs": [],
   "source": [
    "a = requests.get(url,params=params)"
   ]
  },
  {
   "cell_type": "code",
   "execution_count": 177,
   "metadata": {
    "collapsed": true
   },
   "outputs": [
    {
     "data": {
      "text/plain": [
       "{u'data': [{u'counts': {u'comments': 0, u'likes': 2, u'repins': 11},\n",
       "   u'id': u'433049320399739919'},\n",
       "  {u'counts': {u'comments': 0, u'likes': 0, u'repins': 6},\n",
       "   u'id': u'433049320399739847'},\n",
       "  {u'counts': {u'comments': 0, u'likes': 1, u'repins': 8},\n",
       "   u'id': u'433049320399739835'},\n",
       "  {u'counts': {u'comments': 0, u'likes': 2, u'repins': 7},\n",
       "   u'id': u'433049320399739833'},\n",
       "  {u'counts': {u'comments': 0, u'likes': 1, u'repins': 10},\n",
       "   u'id': u'433049320399739829'},\n",
       "  {u'counts': {u'comments': 0, u'likes': 2, u'repins': 6},\n",
       "   u'id': u'433049320399739827'},\n",
       "  {u'counts': {u'comments': 0, u'likes': 1, u'repins': 0},\n",
       "   u'id': u'433049320399614362'},\n",
       "  {u'counts': {u'comments': 0, u'likes': 0, u'repins': 1},\n",
       "   u'id': u'433049320399614356'},\n",
       "  {u'counts': {u'comments': 0, u'likes': 0, u'repins': 0},\n",
       "   u'id': u'433049320399528400'},\n",
       "  {u'counts': {u'comments': 0, u'likes': 0, u'repins': 0},\n",
       "   u'id': u'433049320399178405'},\n",
       "  {u'counts': {u'comments': 0, u'likes': 0, u'repins': 1},\n",
       "   u'id': u'433049320399340889'},\n",
       "  {u'counts': {u'comments': 0, u'likes': 0, u'repins': 0},\n",
       "   u'id': u'433049320399341468'},\n",
       "  {u'counts': {u'comments': 0, u'likes': 3, u'repins': 5},\n",
       "   u'id': u'433049320399089597'},\n",
       "  {u'counts': {u'comments': 0, u'likes': 0, u'repins': 1},\n",
       "   u'id': u'433049320399100063'},\n",
       "  {u'counts': {u'comments': 0, u'likes': 0, u'repins': 1},\n",
       "   u'id': u'433049320399086380'},\n",
       "  {u'counts': {u'comments': 0, u'likes': 0, u'repins': 1},\n",
       "   u'id': u'433049320399100006'},\n",
       "  {u'counts': {u'comments': 0, u'likes': 1, u'repins': 2},\n",
       "   u'id': u'433049320398909747'},\n",
       "  {u'counts': {u'comments': 0, u'likes': 0, u'repins': 11},\n",
       "   u'id': u'433049320398909732'},\n",
       "  {u'counts': {u'comments': 0, u'likes': 2, u'repins': 2},\n",
       "   u'id': u'433049320398842129'},\n",
       "  {u'counts': {u'comments': 0, u'likes': 1, u'repins': 5},\n",
       "   u'id': u'433049320398842985'},\n",
       "  {u'counts': {u'comments': 0, u'likes': 2, u'repins': 12},\n",
       "   u'id': u'433049320398743717'},\n",
       "  {u'counts': {u'comments': 0, u'likes': 0, u'repins': 8},\n",
       "   u'id': u'433049320398620908'},\n",
       "  {u'counts': {u'comments': 0, u'likes': 5, u'repins': 7},\n",
       "   u'id': u'433049320398533162'},\n",
       "  {u'counts': {u'comments': 0, u'likes': 0, u'repins': 5},\n",
       "   u'id': u'433049320398520334'},\n",
       "  {u'counts': {u'comments': 0, u'likes': 0, u'repins': 1},\n",
       "   u'id': u'433049320398449674'},\n",
       "  {u'counts': {u'comments': 0, u'likes': 0, u'repins': 5},\n",
       "   u'id': u'433049320398366470'},\n",
       "  {u'counts': {u'comments': 0, u'likes': 0, u'repins': 4},\n",
       "   u'id': u'433049320398240946'},\n",
       "  {u'counts': {u'comments': 0, u'likes': 1, u'repins': 2},\n",
       "   u'id': u'433049320398243224'},\n",
       "  {u'counts': {u'comments': 0, u'likes': 0, u'repins': 4},\n",
       "   u'id': u'433049320398242359'},\n",
       "  {u'counts': {u'comments': 0, u'likes': 1, u'repins': 6},\n",
       "   u'id': u'433049320398231403'},\n",
       "  {u'counts': {u'comments': 0, u'likes': 1, u'repins': 9},\n",
       "   u'id': u'433049320398231356'},\n",
       "  {u'counts': {u'comments': 0, u'likes': 0, u'repins': 2},\n",
       "   u'id': u'433049320398231338'},\n",
       "  {u'counts': {u'comments': 0, u'likes': 1, u'repins': 2},\n",
       "   u'id': u'433049320398231330'},\n",
       "  {u'counts': {u'comments': 0, u'likes': 0, u'repins': 3},\n",
       "   u'id': u'433049320398231325'},\n",
       "  {u'counts': {u'comments': 0, u'likes': 0, u'repins': 2},\n",
       "   u'id': u'433049320398231315'},\n",
       "  {u'counts': {u'comments': 0, u'likes': 1, u'repins': 2},\n",
       "   u'id': u'433049320398231260'},\n",
       "  {u'counts': {u'comments': 0, u'likes': 0, u'repins': 2},\n",
       "   u'id': u'433049320398231233'},\n",
       "  {u'counts': {u'comments': 0, u'likes': 2, u'repins': 2},\n",
       "   u'id': u'433049320398231226'},\n",
       "  {u'counts': {u'comments': 0, u'likes': 0, u'repins': 1},\n",
       "   u'id': u'433049320398231147'},\n",
       "  {u'counts': {u'comments': 0, u'likes': 0, u'repins': 4},\n",
       "   u'id': u'433049320398231135'},\n",
       "  {u'counts': {u'comments': 0, u'likes': 1, u'repins': 10},\n",
       "   u'id': u'433049320398231126'},\n",
       "  {u'counts': {u'comments': 0, u'likes': 0, u'repins': 1},\n",
       "   u'id': u'433049320398231113'},\n",
       "  {u'counts': {u'comments': 0, u'likes': 0, u'repins': 6},\n",
       "   u'id': u'433049320398231092'},\n",
       "  {u'counts': {u'comments': 0, u'likes': 0, u'repins': 0},\n",
       "   u'id': u'433049320398231070'},\n",
       "  {u'counts': {u'comments': 1, u'likes': 3, u'repins': 10},\n",
       "   u'id': u'433049320398231053'},\n",
       "  {u'counts': {u'comments': 0, u'likes': 1, u'repins': 7},\n",
       "   u'id': u'433049320398231043'},\n",
       "  {u'counts': {u'comments': 0, u'likes': 0, u'repins': 0},\n",
       "   u'id': u'433049320398231012'},\n",
       "  {u'counts': {u'comments': 0, u'likes': 0, u'repins': 4},\n",
       "   u'id': u'433049320398191106'},\n",
       "  {u'counts': {u'comments': 0, u'likes': 0, u'repins': 1},\n",
       "   u'id': u'433049320398135713'},\n",
       "  {u'counts': {u'comments': 0, u'likes': 1, u'repins': 3},\n",
       "   u'id': u'433049320398080869'},\n",
       "  {u'counts': {u'comments': 0, u'likes': 0, u'repins': 1},\n",
       "   u'id': u'433049320398069635'},\n",
       "  {u'counts': {u'comments': 0, u'likes': 3, u'repins': 10},\n",
       "   u'id': u'433049320398069574'},\n",
       "  {u'counts': {u'comments': 0, u'likes': 0, u'repins': 5},\n",
       "   u'id': u'433049320398068794'},\n",
       "  {u'counts': {u'comments': 0, u'likes': 0, u'repins': 2},\n",
       "   u'id': u'433049320398065777'},\n",
       "  {u'counts': {u'comments': 0, u'likes': 1, u'repins': 2},\n",
       "   u'id': u'433049320398064847'},\n",
       "  {u'counts': {u'comments': 0, u'likes': 0, u'repins': 7},\n",
       "   u'id': u'433049320398064663'},\n",
       "  {u'counts': {u'comments': 0, u'likes': 0, u'repins': 0},\n",
       "   u'id': u'433049320398050593'},\n",
       "  {u'counts': {u'comments': 0, u'likes': 1, u'repins': 5},\n",
       "   u'id': u'433049320398042503'},\n",
       "  {u'counts': {u'comments': 0, u'likes': 0, u'repins': 2},\n",
       "   u'id': u'433049320398042499'}],\n",
       " u'page': {u'cursor': None, u'next': None}}"
      ]
     },
     "execution_count": 177,
     "metadata": {},
     "output_type": "execute_result"
    }
   ],
   "source": [
    "a.json()"
   ]
  },
  {
   "cell_type": "markdown",
   "metadata": {},
   "source": [
    "Scrape from searching results"
   ]
  },
  {
   "cell_type": "code",
   "execution_count": 30,
   "metadata": {
    "collapsed": true
   },
   "outputs": [],
   "source": [
    "import time\n",
    "\n",
    "from selenium import webdriver\n",
    "from selenium.webdriver.common.keys import Keys\n",
    "from selenium.webdriver.common.by import By\n"
   ]
  },
  {
   "cell_type": "code",
   "execution_count": 117,
   "metadata": {
    "collapsed": false
   },
   "outputs": [],
   "source": [
    "browser = webdriver.Chrome()\n",
    "\n",
    "browser.get(\"https://www.pinterest.com/search/pins/?q=lip+color+model\")\n",
    "browser.find_element_by_class_name(\"buttonText\").click()\n",
    "\n",
    "time.sleep(1)\n",
    "\n"
   ]
  },
  {
   "cell_type": "code",
   "execution_count": 118,
   "metadata": {
    "collapsed": false
   },
   "outputs": [],
   "source": [
    "elem = browser.find_element_by_tag_name(\"body\")\n",
    "\n",
    "no_of_pagedowns = 50\n",
    "\n",
    "while no_of_pagedowns:\n",
    "    elem.send_keys(Keys.PAGE_DOWN)\n",
    "    time.sleep(0.2)\n",
    "    no_of_pagedowns-=1"
   ]
  },
  {
   "cell_type": "markdown",
   "metadata": {},
   "source": [
    "http://stackoverflow.com/questions/21006940/how-to-load-all-entries-in-an-infinite-scroll-at-once-to-parse-the-html-in-pytho\n",
    "\n"
   ]
  },
  {
   "cell_type": "code",
   "execution_count": 119,
   "metadata": {
    "collapsed": false
   },
   "outputs": [],
   "source": [
    "links = browser.find_elements_by_xpath('//a[@data-element-type = \"35\"]')"
   ]
  },
  {
   "cell_type": "code",
   "execution_count": 115,
   "metadata": {
    "collapsed": false
   },
   "outputs": [
    {
     "name": "stdout",
     "output_type": "stream",
     "text": [
      "https://www.pinterest.com/pin/186125397077757682/\n",
      "https://www.pinterest.com/pin/83527768064734107/\n",
      "https://www.pinterest.com/pin/479774166528001900/\n",
      "https://www.pinterest.com/pin/413768284490465256/\n",
      "https://www.pinterest.com/pin/420242208958415563/\n",
      "https://www.pinterest.com/pin/571886852659535159/\n",
      "https://www.pinterest.com/pin/169448004707629523/\n",
      "https://www.pinterest.com/pin/182044009911902862/\n",
      "https://www.pinterest.com/pin/118008452713403356/\n",
      "https://www.pinterest.com/pin/224828206375167364/\n",
      "https://www.pinterest.com/pin/311803974181521798/\n",
      "https://www.pinterest.com/pin/39336196720949649/\n",
      "https://www.pinterest.com/pin/267893877810726036/\n",
      "https://www.pinterest.com/pin/259027416046044610/\n",
      "https://www.pinterest.com/pin/352125264590799164/\n",
      "https://www.pinterest.com/pin/46936021093397342/\n",
      "https://www.pinterest.com/pin/81487074483874071/\n",
      "https://www.pinterest.com/pin/115334440430493956/\n",
      "https://www.pinterest.com/pin/190769734190727230/\n",
      "https://www.pinterest.com/pin/188658671867556747/\n",
      "https://www.pinterest.com/pin/17592254771819149/\n",
      "https://www.pinterest.com/pin/31173422399367343/\n",
      "https://www.pinterest.com/pin/1759287331581389/\n",
      "https://www.pinterest.com/pin/370421138079184570/\n",
      "https://www.pinterest.com/pin/387591111656356018/\n",
      "https://www.pinterest.com/pin/496381190150829166/\n",
      "https://www.pinterest.com/pin/246290673345453425/\n",
      "https://www.pinterest.com/pin/557461260104721599/\n",
      "https://www.pinterest.com/pin/488781365781581026/\n",
      "https://www.pinterest.com/pin/390124386444437295/\n",
      "https://www.pinterest.com/pin/246079567116591132/\n",
      "https://www.pinterest.com/pin/173459023119655678/\n",
      "https://www.pinterest.com/pin/148829962663375226/\n",
      "https://www.pinterest.com/pin/101331060343337758/\n",
      "https://www.pinterest.com/pin/172051648240401226/\n",
      "https://www.pinterest.com/pin/535013630709932744/\n",
      "https://www.pinterest.com/pin/447756387929294458/\n",
      "https://www.pinterest.com/pin/96405248244032882/\n",
      "https://www.pinterest.com/pin/520588038146327643/\n",
      "https://www.pinterest.com/pin/170503535866703987/\n",
      "https://www.pinterest.com/pin/235664992978184027/\n"
     ]
    }
   ],
   "source": [
    "for l in links:\n",
    "    print l.get_attribute('href')"
   ]
  },
  {
   "cell_type": "code",
   "execution_count": 122,
   "metadata": {
    "collapsed": false
   },
   "outputs": [
    {
     "data": {
      "text/plain": [
       "u'https://www.pinterest.com/pin/188658671865496264/'"
      ]
     },
     "execution_count": 122,
     "metadata": {},
     "output_type": "execute_result"
    }
   ],
   "source": [
    "links[-1].get_attribute('href')"
   ]
  },
  {
   "cell_type": "code",
   "execution_count": 120,
   "metadata": {
    "collapsed": false
   },
   "outputs": [
    {
     "data": {
      "text/plain": [
       "59"
      ]
     },
     "execution_count": 120,
     "metadata": {},
     "output_type": "execute_result"
    }
   ],
   "source": [
    "len(links)"
   ]
  },
  {
   "cell_type": "code",
   "execution_count": null,
   "metadata": {
    "collapsed": true
   },
   "outputs": [],
   "source": []
  }
 ],
 "metadata": {
  "kernelspec": {
   "display_name": "Python 2",
   "language": "python",
   "name": "python2"
  },
  "language_info": {
   "codemirror_mode": {
    "name": "ipython",
    "version": 2
   },
   "file_extension": ".py",
   "mimetype": "text/x-python",
   "name": "python",
   "nbconvert_exporter": "python",
   "pygments_lexer": "ipython2",
   "version": "2.7.11"
  }
 },
 "nbformat": 4,
 "nbformat_minor": 0
}
