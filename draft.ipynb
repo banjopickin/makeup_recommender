{
 "cells": [
  {
   "cell_type": "markdown",
   "metadata": {},
   "source": [
    "This file shows the scraping step.\n",
    "Following is the demo for scraping pins' info"
   ]
  },
  {
   "cell_type": "code",
   "execution_count": 1,
   "metadata": {
    "collapsed": true
   },
   "outputs": [],
   "source": [
    "import requests"
   ]
  },
  {
   "cell_type": "code",
   "execution_count": 2,
   "metadata": {
    "collapsed": true
   },
   "outputs": [],
   "source": [
    "base_url = 'https://api.pinterest.com'"
   ]
  },
  {
   "cell_type": "code",
   "execution_count": 136,
   "metadata": {
    "collapsed": true
   },
   "outputs": [],
   "source": [
    "url = base_url+'/v1/boards/meccabeauty/lips/pins'"
   ]
  },
  {
   "cell_type": "code",
   "execution_count": 137,
   "metadata": {
    "collapsed": false
   },
   "outputs": [
    {
     "data": {
      "text/plain": [
       "'https://api.pinterest.com/v1/boards/meccabeauty/lips/pins'"
      ]
     },
     "execution_count": 137,
     "metadata": {},
     "output_type": "execute_result"
    }
   ],
   "source": [
    "url"
   ]
  },
  {
   "cell_type": "code",
   "execution_count": 92,
   "metadata": {
    "collapsed": false
   },
   "outputs": [],
   "source": [
    "params = {}\n",
    "params[\"access_token\"] = secret\n",
    "params['fields']=['counts']\n",
    "#params['limit'] = 100"
   ]
  },
  {
   "cell_type": "code",
   "execution_count": 176,
   "metadata": {
    "collapsed": false
   },
   "outputs": [],
   "source": [
    "a = requests.get(url,params=params)"
   ]
  },
  {
   "cell_type": "code",
   "execution_count": 177,
   "metadata": {
    "collapsed": true
   },
   "outputs": [
    {
     "data": {
      "text/plain": [
       "{u'data': [{u'counts': {u'comments': 0, u'likes': 2, u'repins': 11},\n",
       "   u'id': u'433049320399739919'},\n",
       "  {u'counts': {u'comments': 0, u'likes': 0, u'repins': 6},\n",
       "   u'id': u'433049320399739847'},\n",
       "  {u'counts': {u'comments': 0, u'likes': 1, u'repins': 8},\n",
       "   u'id': u'433049320399739835'},\n",
       "  {u'counts': {u'comments': 0, u'likes': 2, u'repins': 7},\n",
       "   u'id': u'433049320399739833'},\n",
       "  {u'counts': {u'comments': 0, u'likes': 1, u'repins': 10},\n",
       "   u'id': u'433049320399739829'},\n",
       "  {u'counts': {u'comments': 0, u'likes': 2, u'repins': 6},\n",
       "   u'id': u'433049320399739827'},\n",
       "  {u'counts': {u'comments': 0, u'likes': 1, u'repins': 0},\n",
       "   u'id': u'433049320399614362'},\n",
       "  {u'counts': {u'comments': 0, u'likes': 0, u'repins': 1},\n",
       "   u'id': u'433049320399614356'},\n",
       "  {u'counts': {u'comments': 0, u'likes': 0, u'repins': 0},\n",
       "   u'id': u'433049320399528400'},\n",
       "  {u'counts': {u'comments': 0, u'likes': 0, u'repins': 0},\n",
       "   u'id': u'433049320399178405'},\n",
       "  {u'counts': {u'comments': 0, u'likes': 0, u'repins': 1},\n",
       "   u'id': u'433049320399340889'},\n",
       "  {u'counts': {u'comments': 0, u'likes': 0, u'repins': 0},\n",
       "   u'id': u'433049320399341468'},\n",
       "  {u'counts': {u'comments': 0, u'likes': 3, u'repins': 5},\n",
       "   u'id': u'433049320399089597'},\n",
       "  {u'counts': {u'comments': 0, u'likes': 0, u'repins': 1},\n",
       "   u'id': u'433049320399100063'},\n",
       "  {u'counts': {u'comments': 0, u'likes': 0, u'repins': 1},\n",
       "   u'id': u'433049320399086380'},\n",
       "  {u'counts': {u'comments': 0, u'likes': 0, u'repins': 1},\n",
       "   u'id': u'433049320399100006'},\n",
       "  {u'counts': {u'comments': 0, u'likes': 1, u'repins': 2},\n",
       "   u'id': u'433049320398909747'},\n",
       "  {u'counts': {u'comments': 0, u'likes': 0, u'repins': 11},\n",
       "   u'id': u'433049320398909732'},\n",
       "  {u'counts': {u'comments': 0, u'likes': 2, u'repins': 2},\n",
       "   u'id': u'433049320398842129'},\n",
       "  {u'counts': {u'comments': 0, u'likes': 1, u'repins': 5},\n",
       "   u'id': u'433049320398842985'},\n",
       "  {u'counts': {u'comments': 0, u'likes': 2, u'repins': 12},\n",
       "   u'id': u'433049320398743717'},\n",
       "  {u'counts': {u'comments': 0, u'likes': 0, u'repins': 8},\n",
       "   u'id': u'433049320398620908'},\n",
       "  {u'counts': {u'comments': 0, u'likes': 5, u'repins': 7},\n",
       "   u'id': u'433049320398533162'},\n",
       "  {u'counts': {u'comments': 0, u'likes': 0, u'repins': 5},\n",
       "   u'id': u'433049320398520334'},\n",
       "  {u'counts': {u'comments': 0, u'likes': 0, u'repins': 1},\n",
       "   u'id': u'433049320398449674'},\n",
       "  {u'counts': {u'comments': 0, u'likes': 0, u'repins': 5},\n",
       "   u'id': u'433049320398366470'},\n",
       "  {u'counts': {u'comments': 0, u'likes': 0, u'repins': 4},\n",
       "   u'id': u'433049320398240946'},\n",
       "  {u'counts': {u'comments': 0, u'likes': 1, u'repins': 2},\n",
       "   u'id': u'433049320398243224'},\n",
       "  {u'counts': {u'comments': 0, u'likes': 0, u'repins': 4},\n",
       "   u'id': u'433049320398242359'},\n",
       "  {u'counts': {u'comments': 0, u'likes': 1, u'repins': 6},\n",
       "   u'id': u'433049320398231403'},\n",
       "  {u'counts': {u'comments': 0, u'likes': 1, u'repins': 9},\n",
       "   u'id': u'433049320398231356'},\n",
       "  {u'counts': {u'comments': 0, u'likes': 0, u'repins': 2},\n",
       "   u'id': u'433049320398231338'},\n",
       "  {u'counts': {u'comments': 0, u'likes': 1, u'repins': 2},\n",
       "   u'id': u'433049320398231330'},\n",
       "  {u'counts': {u'comments': 0, u'likes': 0, u'repins': 3},\n",
       "   u'id': u'433049320398231325'},\n",
       "  {u'counts': {u'comments': 0, u'likes': 0, u'repins': 2},\n",
       "   u'id': u'433049320398231315'},\n",
       "  {u'counts': {u'comments': 0, u'likes': 1, u'repins': 2},\n",
       "   u'id': u'433049320398231260'},\n",
       "  {u'counts': {u'comments': 0, u'likes': 0, u'repins': 2},\n",
       "   u'id': u'433049320398231233'},\n",
       "  {u'counts': {u'comments': 0, u'likes': 2, u'repins': 2},\n",
       "   u'id': u'433049320398231226'},\n",
       "  {u'counts': {u'comments': 0, u'likes': 0, u'repins': 1},\n",
       "   u'id': u'433049320398231147'},\n",
       "  {u'counts': {u'comments': 0, u'likes': 0, u'repins': 4},\n",
       "   u'id': u'433049320398231135'},\n",
       "  {u'counts': {u'comments': 0, u'likes': 1, u'repins': 10},\n",
       "   u'id': u'433049320398231126'},\n",
       "  {u'counts': {u'comments': 0, u'likes': 0, u'repins': 1},\n",
       "   u'id': u'433049320398231113'},\n",
       "  {u'counts': {u'comments': 0, u'likes': 0, u'repins': 6},\n",
       "   u'id': u'433049320398231092'},\n",
       "  {u'counts': {u'comments': 0, u'likes': 0, u'repins': 0},\n",
       "   u'id': u'433049320398231070'},\n",
       "  {u'counts': {u'comments': 1, u'likes': 3, u'repins': 10},\n",
       "   u'id': u'433049320398231053'},\n",
       "  {u'counts': {u'comments': 0, u'likes': 1, u'repins': 7},\n",
       "   u'id': u'433049320398231043'},\n",
       "  {u'counts': {u'comments': 0, u'likes': 0, u'repins': 0},\n",
       "   u'id': u'433049320398231012'},\n",
       "  {u'counts': {u'comments': 0, u'likes': 0, u'repins': 4},\n",
       "   u'id': u'433049320398191106'},\n",
       "  {u'counts': {u'comments': 0, u'likes': 0, u'repins': 1},\n",
       "   u'id': u'433049320398135713'},\n",
       "  {u'counts': {u'comments': 0, u'likes': 1, u'repins': 3},\n",
       "   u'id': u'433049320398080869'},\n",
       "  {u'counts': {u'comments': 0, u'likes': 0, u'repins': 1},\n",
       "   u'id': u'433049320398069635'},\n",
       "  {u'counts': {u'comments': 0, u'likes': 3, u'repins': 10},\n",
       "   u'id': u'433049320398069574'},\n",
       "  {u'counts': {u'comments': 0, u'likes': 0, u'repins': 5},\n",
       "   u'id': u'433049320398068794'},\n",
       "  {u'counts': {u'comments': 0, u'likes': 0, u'repins': 2},\n",
       "   u'id': u'433049320398065777'},\n",
       "  {u'counts': {u'comments': 0, u'likes': 1, u'repins': 2},\n",
       "   u'id': u'433049320398064847'},\n",
       "  {u'counts': {u'comments': 0, u'likes': 0, u'repins': 7},\n",
       "   u'id': u'433049320398064663'},\n",
       "  {u'counts': {u'comments': 0, u'likes': 0, u'repins': 0},\n",
       "   u'id': u'433049320398050593'},\n",
       "  {u'counts': {u'comments': 0, u'likes': 1, u'repins': 5},\n",
       "   u'id': u'433049320398042503'},\n",
       "  {u'counts': {u'comments': 0, u'likes': 0, u'repins': 2},\n",
       "   u'id': u'433049320398042499'}],\n",
       " u'page': {u'cursor': None, u'next': None}}"
      ]
     },
     "execution_count": 177,
     "metadata": {},
     "output_type": "execute_result"
    }
   ],
   "source": [
    "a.json()"
   ]
  },
  {
   "cell_type": "markdown",
   "metadata": {},
   "source": [
    "Scrape from searching results"
   ]
  },
  {
   "cell_type": "code",
   "execution_count": 17,
   "metadata": {
    "collapsed": true
   },
   "outputs": [],
   "source": [
    "import time\n",
    "\n",
    "from selenium import webdriver\n",
    "from selenium.webdriver.common.keys import Keys\n",
    "from selenium.webdriver.common.by import By\n"
   ]
  },
  {
   "cell_type": "code",
   "execution_count": 18,
   "metadata": {
    "collapsed": true
   },
   "outputs": [],
   "source": [
    "bucket_pins=set()\n",
    "browser = webdriver.Chrome()\n",
    "\n",
    "browser.get(\"https://www.pinterest.com/search/boards/?q=face\")\n",
    "browser.find_element_by_class_name(\"buttonText\").click()\n",
    "\n",
    "time.sleep(1)"
   ]
  },
  {
   "cell_type": "code",
   "execution_count": 19,
   "metadata": {
    "collapsed": false
   },
   "outputs": [],
   "source": [
    "elem = browser.find_element_by_tag_name(\"body\")\n",
    "links = elem.find_elements_by_xpath('//a[@data-element-type = \"36\"]')\n",
    "for l in links:\n",
    "    bucket_pins.add(l.get_attribute('href'))"
   ]
  },
  {
   "cell_type": "code",
   "execution_count": 20,
   "metadata": {
    "collapsed": false
   },
   "outputs": [],
   "source": [
    "no_of_pagedowns = 100\n",
    "\n",
    "while no_of_pagedowns:\n",
    "    elem.send_keys(Keys.PAGE_DOWN)\n",
    "    time.sleep(0.2)\n",
    "    no_of_pagedowns-=1"
   ]
  },
  {
   "cell_type": "markdown",
   "metadata": {},
   "source": [
    "http://stackoverflow.com/questions/21006940/how-to-load-all-entries-in-an-infinite-scroll-at-once-to-parse-the-html-in-pytho\n",
    "\n"
   ]
  },
  {
   "cell_type": "code",
   "execution_count": 21,
   "metadata": {
    "collapsed": false
   },
   "outputs": [],
   "source": [
    "links = elem.find_elements_by_xpath('//a[@data-element-type = \"36\"]')"
   ]
  },
  {
   "cell_type": "code",
   "execution_count": 22,
   "metadata": {
    "collapsed": false
   },
   "outputs": [],
   "source": [
    "for l in links:\n",
    "    bucket_pins.add(l.get_attribute('href'))"
   ]
  },
  {
   "cell_type": "code",
   "execution_count": 24,
   "metadata": {
    "collapsed": false
   },
   "outputs": [
    {
     "data": {
      "text/plain": [
       "50"
      ]
     },
     "execution_count": 24,
     "metadata": {},
     "output_type": "execute_result"
    }
   ],
   "source": [
    "len(bucket_pins)"
   ]
  },
  {
   "cell_type": "code",
   "execution_count": 25,
   "metadata": {
    "collapsed": false
   },
   "outputs": [],
   "source": [
    "bucket_board = list(bucket_pins)"
   ]
  },
  {
   "cell_type": "code",
   "execution_count": 26,
   "metadata": {
    "collapsed": false
   },
   "outputs": [],
   "source": [
    "face = bucket_board[0]"
   ]
  },
  {
   "cell_type": "code",
   "execution_count": 27,
   "metadata": {
    "collapsed": false
   },
   "outputs": [
    {
     "data": {
      "text/plain": [
       "u'https://www.pinterest.com/fionabooth/face/'"
      ]
     },
     "execution_count": 27,
     "metadata": {},
     "output_type": "execute_result"
    }
   ],
   "source": [
    "face"
   ]
  },
  {
   "cell_type": "code",
   "execution_count": 31,
   "metadata": {
    "collapsed": false
   },
   "outputs": [],
   "source": [
    "import re"
   ]
  },
  {
   "cell_type": "code",
   "execution_count": 36,
   "metadata": {
    "collapsed": false
   },
   "outputs": [
    {
     "data": {
      "text/plain": [
       "u'/fionabooth/face/'"
      ]
     },
     "execution_count": 36,
     "metadata": {},
     "output_type": "execute_result"
    }
   ],
   "source": [
    "re.split(\"com\",face)[1]"
   ]
  },
  {
   "cell_type": "code",
   "execution_count": null,
   "metadata": {
    "collapsed": true
   },
   "outputs": [],
   "source": []
  }
 ],
 "metadata": {
  "kernelspec": {
   "display_name": "Python 2",
   "language": "python",
   "name": "python2"
  },
  "language_info": {
   "codemirror_mode": {
    "name": "ipython",
    "version": 2
   },
   "file_extension": ".py",
   "mimetype": "text/x-python",
   "name": "python",
   "nbconvert_exporter": "python",
   "pygments_lexer": "ipython2",
   "version": "2.7.11"
  }
 },
 "nbformat": 4,
 "nbformat_minor": 0
}
